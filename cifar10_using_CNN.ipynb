{
  "nbformat": 4,
  "nbformat_minor": 0,
  "metadata": {
    "colab": {
      "provenance": [],
      "gpuType": "T4",
      "authorship_tag": "ABX9TyOKUBNuc4dLgHQNlu4XDFPy",
      "include_colab_link": true
    },
    "kernelspec": {
      "name": "python3",
      "display_name": "Python 3"
    },
    "language_info": {
      "name": "python"
    },
    "accelerator": "GPU"
  },
  "cells": [
    {
      "cell_type": "markdown",
      "metadata": {
        "id": "view-in-github",
        "colab_type": "text"
      },
      "source": [
        "<a href=\"https://colab.research.google.com/github/adityadhumal06/Covolutional_Neural_Network/blob/main/cifar10_using_CNN.ipynb\" target=\"_parent\"><img src=\"https://colab.research.google.com/assets/colab-badge.svg\" alt=\"Open In Colab\"/></a>"
      ]
    },
    {
      "cell_type": "code",
      "execution_count": 1,
      "metadata": {
        "id": "kXrt9DbH5NmG"
      },
      "outputs": [],
      "source": [
        "import tensorflow\n",
        "from tensorflow import keras\n",
        "from tensorflow.keras.layers import Dense, Conv2D, Dropout, MaxPooling2D, Flatten"
      ]
    },
    {
      "cell_type": "code",
      "source": [
        "from keras.datasets import cifar10"
      ],
      "metadata": {
        "id": "uwM8QvID5qY9"
      },
      "execution_count": 2,
      "outputs": []
    },
    {
      "cell_type": "code",
      "source": [
        "# Load Dataset"
      ],
      "metadata": {
        "id": "u7b3iQY655m-"
      },
      "execution_count": 3,
      "outputs": []
    },
    {
      "cell_type": "code",
      "source": [
        "(xtrain,ytrain),(xtest,ytest) = cifar10.load_data()"
      ],
      "metadata": {
        "id": "rMktk9Fg571K",
        "colab": {
          "base_uri": "https://localhost:8080/"
        },
        "outputId": "c1a15696-dca7-4301-de0c-1adf5909b9a0"
      },
      "execution_count": 4,
      "outputs": [
        {
          "output_type": "stream",
          "name": "stdout",
          "text": [
            "Downloading data from https://www.cs.toronto.edu/~kriz/cifar-10-python.tar.gz\n",
            "170498071/170498071 [==============================] - 4s 0us/step\n"
          ]
        }
      ]
    },
    {
      "cell_type": "code",
      "source": [
        "xtrain.shape"
      ],
      "metadata": {
        "colab": {
          "base_uri": "https://localhost:8080/"
        },
        "id": "ffx4mcmE59d-",
        "outputId": "b9107232-1bda-4a4e-9751-822e21f9b0aa"
      },
      "execution_count": 5,
      "outputs": [
        {
          "output_type": "execute_result",
          "data": {
            "text/plain": [
              "(50000, 32, 32, 3)"
            ]
          },
          "metadata": {},
          "execution_count": 5
        }
      ]
    },
    {
      "cell_type": "code",
      "source": [
        "xtest.shape"
      ],
      "metadata": {
        "colab": {
          "base_uri": "https://localhost:8080/"
        },
        "id": "VTyogHwI6a3Q",
        "outputId": "35973180-dda4-4d64-d6f9-89907efce9ba"
      },
      "execution_count": 6,
      "outputs": [
        {
          "output_type": "execute_result",
          "data": {
            "text/plain": [
              "(10000, 32, 32, 3)"
            ]
          },
          "metadata": {},
          "execution_count": 6
        }
      ]
    },
    {
      "cell_type": "code",
      "source": [
        "xtrain[0]"
      ],
      "metadata": {
        "colab": {
          "base_uri": "https://localhost:8080/"
        },
        "id": "CHszd2mh7gfq",
        "outputId": "651af97e-3b32-4d03-941e-4cc6d612fc80"
      },
      "execution_count": 7,
      "outputs": [
        {
          "output_type": "execute_result",
          "data": {
            "text/plain": [
              "array([[[ 59,  62,  63],\n",
              "        [ 43,  46,  45],\n",
              "        [ 50,  48,  43],\n",
              "        ...,\n",
              "        [158, 132, 108],\n",
              "        [152, 125, 102],\n",
              "        [148, 124, 103]],\n",
              "\n",
              "       [[ 16,  20,  20],\n",
              "        [  0,   0,   0],\n",
              "        [ 18,   8,   0],\n",
              "        ...,\n",
              "        [123,  88,  55],\n",
              "        [119,  83,  50],\n",
              "        [122,  87,  57]],\n",
              "\n",
              "       [[ 25,  24,  21],\n",
              "        [ 16,   7,   0],\n",
              "        [ 49,  27,   8],\n",
              "        ...,\n",
              "        [118,  84,  50],\n",
              "        [120,  84,  50],\n",
              "        [109,  73,  42]],\n",
              "\n",
              "       ...,\n",
              "\n",
              "       [[208, 170,  96],\n",
              "        [201, 153,  34],\n",
              "        [198, 161,  26],\n",
              "        ...,\n",
              "        [160, 133,  70],\n",
              "        [ 56,  31,   7],\n",
              "        [ 53,  34,  20]],\n",
              "\n",
              "       [[180, 139,  96],\n",
              "        [173, 123,  42],\n",
              "        [186, 144,  30],\n",
              "        ...,\n",
              "        [184, 148,  94],\n",
              "        [ 97,  62,  34],\n",
              "        [ 83,  53,  34]],\n",
              "\n",
              "       [[177, 144, 116],\n",
              "        [168, 129,  94],\n",
              "        [179, 142,  87],\n",
              "        ...,\n",
              "        [216, 184, 140],\n",
              "        [151, 118,  84],\n",
              "        [123,  92,  72]]], dtype=uint8)"
            ]
          },
          "metadata": {},
          "execution_count": 7
        }
      ]
    },
    {
      "cell_type": "code",
      "source": [
        "import matplotlib.pyplot as plt\n",
        "plt.figure(figsize=(15,2))\n",
        "plt.imshow(xtrain[5])"
      ],
      "metadata": {
        "colab": {
          "base_uri": "https://localhost:8080/",
          "height": 234
        },
        "id": "vZ-mMoyM7lM2",
        "outputId": "4e24838a-5c77-4136-b6b0-831bd251b666"
      },
      "execution_count": 8,
      "outputs": [
        {
          "output_type": "execute_result",
          "data": {
            "text/plain": [
              "<matplotlib.image.AxesImage at 0x7d0bd2b269b0>"
            ]
          },
          "metadata": {},
          "execution_count": 8
        },
        {
          "output_type": "display_data",
          "data": {
            "text/plain": [
              "<Figure size 1500x200 with 1 Axes>"
            ],
            "image/png": "[encoded data removed]"
          },
          "metadata": {}
        }
      ]
    },
    {
      "cell_type": "code",
      "source": [
        "ytrain[:5]"
      ],
      "metadata": {
        "colab": {
          "base_uri": "https://localhost:8080/"
        },
        "id": "FhHQbS477r0F",
        "outputId": "547558a1-3469-41f5-c8f5-378806b482a2"
      },
      "execution_count": 9,
      "outputs": [
        {
          "output_type": "execute_result",
          "data": {
            "text/plain": [
              "array([[6],\n",
              "       [9],\n",
              "       [9],\n",
              "       [4],\n",
              "       [1]], dtype=uint8)"
            ]
          },
          "metadata": {},
          "execution_count": 9
        }
      ]
    },
    {
      "cell_type": "code",
      "source": [
        "ytrain = ytrain.reshape(-1)"
      ],
      "metadata": {
        "id": "gj91olwF8Kk6"
      },
      "execution_count": 10,
      "outputs": []
    },
    {
      "cell_type": "code",
      "source": [
        "ytrain[:5] # 2d to 1d"
      ],
      "metadata": {
        "colab": {
          "base_uri": "https://localhost:8080/"
        },
        "id": "wI00HZqe8jWF",
        "outputId": "c67a041d-6f58-411e-debb-deef4a1d8413"
      },
      "execution_count": 11,
      "outputs": [
        {
          "output_type": "execute_result",
          "data": {
            "text/plain": [
              "array([6, 9, 9, 4, 1], dtype=uint8)"
            ]
          },
          "metadata": {},
          "execution_count": 11
        }
      ]
    },
    {
      "cell_type": "code",
      "source": [
        "# Normalize the data\n",
        "xtrain = xtrain/255\n",
        "xtest = xtest/255"
      ],
      "metadata": {
        "id": "p7kzMf0G8nhv"
      },
      "execution_count": 12,
      "outputs": []
    },
    {
      "cell_type": "code",
      "source": [
        "xtrain[0]"
      ],
      "metadata": {
        "colab": {
          "base_uri": "https://localhost:8080/"
        },
        "id": "M25ryZXc887D",
        "outputId": "f9fd1881-4d63-4a4d-af8a-b81ab0962d26"
      },
      "execution_count": 13,
      "outputs": [
        {
          "output_type": "execute_result",
          "data": {
            "text/plain": [
              "array([[[0.23137255, 0.24313725, 0.24705882],\n",
              "        [0.16862745, 0.18039216, 0.17647059],\n",
              "        [0.19607843, 0.18823529, 0.16862745],\n",
              "        ...,\n",
              "        [0.61960784, 0.51764706, 0.42352941],\n",
              "        [0.59607843, 0.49019608, 0.4       ],\n",
              "        [0.58039216, 0.48627451, 0.40392157]],\n",
              "\n",
              "       [[0.0627451 , 0.07843137, 0.07843137],\n",
              "        [0.        , 0.        , 0.        ],\n",
              "        [0.07058824, 0.03137255, 0.        ],\n",
              "        ...,\n",
              "        [0.48235294, 0.34509804, 0.21568627],\n",
              "        [0.46666667, 0.3254902 , 0.19607843],\n",
              "        [0.47843137, 0.34117647, 0.22352941]],\n",
              "\n",
              "       [[0.09803922, 0.09411765, 0.08235294],\n",
              "        [0.0627451 , 0.02745098, 0.        ],\n",
              "        [0.19215686, 0.10588235, 0.03137255],\n",
              "        ...,\n",
              "        [0.4627451 , 0.32941176, 0.19607843],\n",
              "        [0.47058824, 0.32941176, 0.19607843],\n",
              "        [0.42745098, 0.28627451, 0.16470588]],\n",
              "\n",
              "       ...,\n",
              "\n",
              "       [[0.81568627, 0.66666667, 0.37647059],\n",
              "        [0.78823529, 0.6       , 0.13333333],\n",
              "        [0.77647059, 0.63137255, 0.10196078],\n",
              "        ...,\n",
              "        [0.62745098, 0.52156863, 0.2745098 ],\n",
              "        [0.21960784, 0.12156863, 0.02745098],\n",
              "        [0.20784314, 0.13333333, 0.07843137]],\n",
              "\n",
              "       [[0.70588235, 0.54509804, 0.37647059],\n",
              "        [0.67843137, 0.48235294, 0.16470588],\n",
              "        [0.72941176, 0.56470588, 0.11764706],\n",
              "        ...,\n",
              "        [0.72156863, 0.58039216, 0.36862745],\n",
              "        [0.38039216, 0.24313725, 0.13333333],\n",
              "        [0.3254902 , 0.20784314, 0.13333333]],\n",
              "\n",
              "       [[0.69411765, 0.56470588, 0.45490196],\n",
              "        [0.65882353, 0.50588235, 0.36862745],\n",
              "        [0.70196078, 0.55686275, 0.34117647],\n",
              "        ...,\n",
              "        [0.84705882, 0.72156863, 0.54901961],\n",
              "        [0.59215686, 0.4627451 , 0.32941176],\n",
              "        [0.48235294, 0.36078431, 0.28235294]]])"
            ]
          },
          "metadata": {},
          "execution_count": 13
        }
      ]
    },
    {
      "cell_type": "code",
      "source": [
        "# Model Building and training"
      ],
      "metadata": {
        "id": "QIORpuc589x9"
      },
      "execution_count": 14,
      "outputs": []
    },
    {
      "cell_type": "code",
      "source": [
        "from tensorflow.keras.models import Sequential\n",
        "model = Sequential()\n",
        "\n",
        "model.add(Flatten(input_shape=(32,32,3)))\n",
        "\n",
        "model.add(Dense(3000,activation='relu'))\n",
        "model.add(Dense(1000,activation='relu'))\n",
        "\n",
        "model.add(Dense(10,activation='softmax'))"
      ],
      "metadata": {
        "id": "ne7gDEVp9FTY"
      },
      "execution_count": 15,
      "outputs": []
    },
    {
      "cell_type": "code",
      "source": [
        "model.summary()"
      ],
      "metadata": {
        "colab": {
          "base_uri": "https://localhost:8080/"
        },
        "id": "Ck2l83Bu93SF",
        "outputId": "744d3267-a285-4da5-bc28-33d19e0624d1"
      },
      "execution_count": 16,
      "outputs": [
        {
          "output_type": "stream",
          "name": "stdout",
          "text": [
            "Model: \"sequential\"\n",
            "_________________________________________________________________\n",
            " Layer (type)                Output Shape              Param #   \n",
            "=================================================================\n",
            " flatten (Flatten)           (None, 3072)              0         \n",
            "                                                                 \n",
            " dense (Dense)               (None, 3000)              9219000   \n",
            "                                                                 \n",
            " dense_1 (Dense)             (None, 1000)              3001000   \n",
            "                                                                 \n",
            " dense_2 (Dense)             (None, 10)                10010     \n",
            "                                                                 \n",
            "=================================================================\n",
            "Total params: 12,230,010\n",
            "Trainable params: 12,230,010\n",
            "Non-trainable params: 0\n",
            "_________________________________________________________________\n"
          ]
        }
      ]
    },
    {
      "cell_type": "code",
      "source": [
        "model.compile(optimizer='adam',\n",
        "              loss = 'sparse_categorical_crossentropy',\n",
        "              metrics=['accuracy'])"
      ],
      "metadata": {
        "id": "e-Xn6-3Z-FpI"
      },
      "execution_count": 17,
      "outputs": []
    },
    {
      "cell_type": "code",
      "source": [
        "# Build ANN\n",
        "history = model.fit(xtrain,ytrain,epochs=6,validation_data=(xtest,ytest))"
      ],
      "metadata": {
        "colab": {
          "base_uri": "https://localhost:8080/"
        },
        "id": "JoenuiyF_FK1",
        "outputId": "2faf2a27-e28a-46b1-95c1-71de37e95467"
      },
      "execution_count": 18,
      "outputs": [
        {
          "output_type": "stream",
          "name": "stdout",
          "text": [
            "Epoch 1/6\n",
            "1563/1563 [==============================] - 14s 5ms/step - loss: 1.8906 - accuracy: 0.3284 - val_loss: 1.7351 - val_accuracy: 0.3775\n",
            "Epoch 2/6\n",
            "1563/1563 [==============================] - 8s 5ms/step - loss: 1.6577 - accuracy: 0.4074 - val_loss: 1.6282 - val_accuracy: 0.4173\n",
            "Epoch 3/6\n",
            "1563/1563 [==============================] - 8s 5ms/step - loss: 1.5851 - accuracy: 0.4306 - val_loss: 1.5514 - val_accuracy: 0.4499\n",
            "Epoch 4/6\n",
            "1563/1563 [==============================] - 8s 5ms/step - loss: 1.5368 - accuracy: 0.4489 - val_loss: 1.5580 - val_accuracy: 0.4465\n",
            "Epoch 5/6\n",
            "1563/1563 [==============================] - 8s 5ms/step - loss: 1.5074 - accuracy: 0.4594 - val_loss: 1.5753 - val_accuracy: 0.4504\n",
            "Epoch 6/6\n",
            "1563/1563 [==============================] - 8s 5ms/step - loss: 1.4721 - accuracy: 0.4749 - val_loss: 1.4824 - val_accuracy: 0.4794\n"
          ]
        }
      ]
    },
    {
      "cell_type": "code",
      "source": [
        "model.evaluate(xtest,ytest)"
      ],
      "metadata": {
        "colab": {
          "base_uri": "https://localhost:8080/"
        },
        "id": "F9rqq95H_R3e",
        "outputId": "61aa539b-286b-4656-e593-8d613f12dfbb"
      },
      "execution_count": 19,
      "outputs": [
        {
          "output_type": "stream",
          "name": "stdout",
          "text": [
            "313/313 [==============================] - 1s 3ms/step - loss: 1.4824 - accuracy: 0.4794\n"
          ]
        },
        {
          "output_type": "execute_result",
          "data": {
            "text/plain": [
              "[1.4824497699737549, 0.47940000891685486]"
            ]
          },
          "metadata": {},
          "execution_count": 19
        }
      ]
    },
    {
      "cell_type": "code",
      "source": [
        "from sklearn.metrics import confusion_matrix, classification_report\n",
        "import numpy as np\n",
        "\n",
        "y_pred = model.predict(xtest)\n",
        "y_pred"
      ],
      "metadata": {
        "id": "ec87IgaVAwqp",
        "colab": {
          "base_uri": "https://localhost:8080/"
        },
        "outputId": "206f50cc-9912-4654-9270-b0fabc602eb5"
      },
      "execution_count": 21,
      "outputs": [
        {
          "output_type": "stream",
          "name": "stdout",
          "text": [
            "313/313 [==============================] - 1s 2ms/step\n"
          ]
        },
        {
          "output_type": "execute_result",
          "data": {
            "text/plain": [
              "array([[5.0569102e-02, 2.2979176e-02, 9.4345279e-02, ..., 9.2636794e-03,\n",
              "        2.8994942e-02, 1.0187504e-02],\n",
              "       [4.6513960e-02, 2.9244167e-01, 1.1200112e-03, ..., 3.1577484e-04,\n",
              "        2.4920939e-01, 4.0945581e-01],\n",
              "       [1.3250521e-01, 1.9020323e-01, 2.5010591e-03, ..., 3.5889125e-03,\n",
              "        4.4906271e-01, 2.1599998e-01],\n",
              "       ...,\n",
              "       [2.1400629e-03, 1.4872743e-03, 8.9475594e-02, ..., 3.6981933e-02,\n",
              "        4.0171880e-02, 7.1563493e-03],\n",
              "       [1.5961258e-02, 6.4820605e-03, 1.8129979e-01, ..., 8.1986725e-02,\n",
              "        2.2390403e-03, 8.3800396e-03],\n",
              "       [1.7514069e-02, 2.1937785e-03, 6.8672359e-02, ..., 7.1782464e-01,\n",
              "        2.6811226e-03, 4.7743679e-03]], dtype=float32)"
            ]
          },
          "metadata": {},
          "execution_count": 21
        }
      ]
    },
    {
      "cell_type": "code",
      "source": [
        "ypred_classes = [np.argmax(element) for element in y_pred]\n",
        "# ypred_classes"
      ],
      "metadata": {
        "id": "Pvs0wM32aQKt"
      },
      "execution_count": 57,
      "outputs": []
    },
    {
      "cell_type": "code",
      "source": [
        "print('classification report: |n',classification_report(ytest,ypred_classes))"
      ],
      "metadata": {
        "colab": {
          "base_uri": "https://localhost:8080/"
        },
        "id": "wgGDOR3-ae73",
        "outputId": "bb06be52-1a43-43e9-8467-f0ede3c4f6ce"
      },
      "execution_count": 23,
      "outputs": [
        {
          "output_type": "stream",
          "name": "stdout",
          "text": [
            "classification report: |n               precision    recall  f1-score   support\n",
            "\n",
            "           0       0.53      0.54      0.54      1000\n",
            "           1       0.63      0.57      0.60      1000\n",
            "           2       0.37      0.31      0.34      1000\n",
            "           3       0.37      0.22      0.28      1000\n",
            "           4       0.38      0.44      0.41      1000\n",
            "           5       0.39      0.41      0.40      1000\n",
            "           6       0.47      0.58      0.52      1000\n",
            "           7       0.47      0.58      0.52      1000\n",
            "           8       0.61      0.62      0.61      1000\n",
            "           9       0.56      0.54      0.55      1000\n",
            "\n",
            "    accuracy                           0.48     10000\n",
            "   macro avg       0.48      0.48      0.47     10000\n",
            "weighted avg       0.48      0.48      0.47     10000\n",
            "\n"
          ]
        }
      ]
    },
    {
      "cell_type": "code",
      "source": [
        "from warnings import filters\n",
        "# Improve accuracy using CNN\n",
        "from tensorflow.keras.layers import BatchNormalization,Dropout\n",
        "\n",
        "cnn = Sequential()\n",
        "# Convolutional Layer\n",
        "cnn.add(Conv2D(filters=32,kernel_size=(3,3),padding='valid',activation='relu',input_shape=(32,32,3)))\n",
        "cnn.add(BatchNormalization())\n",
        "cnn.add(MaxPooling2D(pool_size=(2,2),strides=2,padding='valid'))\n",
        "\n",
        "cnn.add(Conv2D(filters=64,kernel_size=(3,3),padding='valid',activation='relu'))\n",
        "cnn.add(BatchNormalization())\n",
        "cnn.add(MaxPooling2D(pool_size=(2,2),strides=2,padding='valid'))\n",
        "\n",
        "cnn.add(Flatten()) # Flatten Layer\n",
        "\n",
        "# Dense Layer\n",
        "cnn.add(Dense(128,activation='relu'))\n",
        "cnn.add(Dropout(0.1))\n",
        "cnn.add(Dense(256,activation='relu'))\n",
        "cnn.add(Dropout(0.1))\n",
        "cnn.add(Dense(10,activation='softmax'))"
      ],
      "metadata": {
        "id": "ja6mb3Cjatf7"
      },
      "execution_count": 52,
      "outputs": []
    },
    {
      "cell_type": "code",
      "source": [
        "cnn.compile(optimizer='adam',\n",
        "              loss = 'sparse_categorical_crossentropy',\n",
        "              metrics=['accuracy'])"
      ],
      "metadata": {
        "id": "rraAdScmcfXB"
      },
      "execution_count": 53,
      "outputs": []
    },
    {
      "cell_type": "code",
      "source": [
        "history = cnn.fit(xtrain,ytrain,epochs=10,validation_data=(xtest,ytest))"
      ],
      "metadata": {
        "colab": {
          "base_uri": "https://localhost:8080/"
        },
        "id": "PnYJ8D7idBFE",
        "outputId": "76d1d79e-787b-48cb-821c-759e36bb40dd"
      },
      "execution_count": 54,
      "outputs": [
        {
          "output_type": "stream",
          "name": "stdout",
          "text": [
            "Epoch 1/10\n",
            "1563/1563 [==============================] - 14s 6ms/step - loss: 1.3987 - accuracy: 0.5011 - val_loss: 1.3255 - val_accuracy: 0.5357\n",
            "Epoch 2/10\n",
            "1563/1563 [==============================] - 9s 6ms/step - loss: 1.0366 - accuracy: 0.6376 - val_loss: 1.2558 - val_accuracy: 0.5696\n",
            "Epoch 3/10\n",
            "1563/1563 [==============================] - 8s 5ms/step - loss: 0.8670 - accuracy: 0.6956 - val_loss: 0.9664 - val_accuracy: 0.6621\n",
            "Epoch 4/10\n",
            "1563/1563 [==============================] - 9s 6ms/step - loss: 0.7570 - accuracy: 0.7369 - val_loss: 1.0107 - val_accuracy: 0.6544\n",
            "Epoch 5/10\n",
            "1563/1563 [==============================] - 9s 6ms/step - loss: 0.6551 - accuracy: 0.7704 - val_loss: 1.2686 - val_accuracy: 0.5895\n",
            "Epoch 6/10\n",
            "1563/1563 [==============================] - 10s 6ms/step - loss: 0.5712 - accuracy: 0.7980 - val_loss: 1.1338 - val_accuracy: 0.6603\n",
            "Epoch 7/10\n",
            "1563/1563 [==============================] - 8s 5ms/step - loss: 0.5030 - accuracy: 0.8234 - val_loss: 1.0130 - val_accuracy: 0.6904\n",
            "Epoch 8/10\n",
            "1563/1563 [==============================] - 9s 6ms/step - loss: 0.4456 - accuracy: 0.8446 - val_loss: 1.0164 - val_accuracy: 0.6971\n",
            "Epoch 9/10\n",
            "1563/1563 [==============================] - 8s 5ms/step - loss: 0.3922 - accuracy: 0.8619 - val_loss: 1.0160 - val_accuracy: 0.7042\n",
            "Epoch 10/10\n",
            "1563/1563 [==============================] - 9s 6ms/step - loss: 0.3606 - accuracy: 0.8744 - val_loss: 1.0329 - val_accuracy: 0.7137\n"
          ]
        }
      ]
    },
    {
      "cell_type": "code",
      "source": [
        "plt.plot(history.history['accuracy'],color='red')\n",
        "plt.plot(history.history['val_accuracy'],color='blue')"
      ],
      "metadata": {
        "colab": {
          "base_uri": "https://localhost:8080/",
          "height": 447
        },
        "id": "NP6cbJuydUhl",
        "outputId": "127ed11f-2010-4e9f-eb91-eeb4fb8535b3"
      },
      "execution_count": 55,
      "outputs": [
        {
          "output_type": "execute_result",
          "data": {
            "text/plain": [
              "[<matplotlib.lines.Line2D at 0x7d0ae4a08d60>]"
            ]
          },
          "metadata": {},
          "execution_count": 55
        },
        {
          "output_type": "display_data",
          "data": {
            "text/plain": [
              "<Figure size 640x480 with 1 Axes>"
            ],
            "image/png": "[encoded data removed]"
          },
          "metadata": {}
        }
      ]
    },
    {
      "cell_type": "code",
      "source": [
        "plt.plot(history.history['loss'],color='red')\n",
        "plt.plot(history.history['val_loss'],color='blue')"
      ],
      "metadata": {
        "colab": {
          "base_uri": "https://localhost:8080/",
          "height": 447
        },
        "id": "nfaE0TBNhgB8",
        "outputId": "00ff0578-4e9d-46da-d4a0-c048c2bb5b08"
      },
      "execution_count": 56,
      "outputs": [
        {
          "output_type": "execute_result",
          "data": {
            "text/plain": [
              "[<matplotlib.lines.Line2D at 0x7d0adce156f0>]"
            ]
          },
          "metadata": {},
          "execution_count": 56
        },
        {
          "output_type": "display_data",
          "data": {
            "text/plain": [
              "<Figure size 640x480 with 1 Axes>"
            ],
            "image/png": "[encoded data removed]"
          },
          "metadata": {}
        }
      ]
    },
    {
      "cell_type": "code",
      "source": [
        "cnn.evaluate(xtest,ytest)"
      ],
      "metadata": {
        "colab": {
          "base_uri": "https://localhost:8080/"
        },
        "id": "flQ0okaKh7u8",
        "outputId": "7a75b96a-f709-4304-ee9c-aa2a21911a21"
      },
      "execution_count": 58,
      "outputs": [
        {
          "output_type": "stream",
          "name": "stdout",
          "text": [
            "313/313 [==============================] - 2s 5ms/step - loss: 1.0329 - accuracy: 0.7137\n"
          ]
        },
        {
          "output_type": "execute_result",
          "data": {
            "text/plain": [
              "[1.0329160690307617, 0.713699996471405]"
            ]
          },
          "metadata": {},
          "execution_count": 58
        }
      ]
    },
    {
      "cell_type": "code",
      "source": [
        "ytest_reshape = ytest.reshape(-1)"
      ],
      "metadata": {
        "id": "Sry84xtVlS-s"
      },
      "execution_count": 62,
      "outputs": []
    },
    {
      "cell_type": "code",
      "source": [
        "ytest[:5]"
      ],
      "metadata": {
        "colab": {
          "base_uri": "https://localhost:8080/"
        },
        "id": "1NRJeEXLl_78",
        "outputId": "18885477-8054-4955-fb39-a20dec6ebc3e"
      },
      "execution_count": 63,
      "outputs": [
        {
          "output_type": "execute_result",
          "data": {
            "text/plain": [
              "array([3, 8, 8, 0, 6], dtype=uint8)"
            ]
          },
          "metadata": {},
          "execution_count": 63
        }
      ]
    },
    {
      "cell_type": "code",
      "source": [
        "ypred = cnn.predict(xtest)"
      ],
      "metadata": {
        "colab": {
          "base_uri": "https://localhost:8080/"
        },
        "id": "iq3VTtRmmJmQ",
        "outputId": "fc892756-4750-488d-fe66-f37eb82025a0"
      },
      "execution_count": 66,
      "outputs": [
        {
          "output_type": "stream",
          "name": "stdout",
          "text": [
            "313/313 [==============================] - 1s 2ms/step\n"
          ]
        }
      ]
    },
    {
      "cell_type": "code",
      "source": [
        "ypred[:5]"
      ],
      "metadata": {
        "colab": {
          "base_uri": "https://localhost:8080/"
        },
        "id": "9q-KGjuYmRgY",
        "outputId": "edccb12d-8694-4450-8f05-d4560dbd6a98"
      },
      "execution_count": 67,
      "outputs": [
        {
          "output_type": "execute_result",
          "data": {
            "text/plain": [
              "array([[1.08707068e-03, 1.21720438e-03, 1.69807915e-02, 3.79389495e-01,\n",
              "        1.23129385e-02, 4.27653372e-01, 1.15113437e-01, 3.71665508e-02,\n",
              "        4.86161327e-04, 8.59290361e-03],\n",
              "       [3.65632446e-03, 1.04043782e-01, 4.50825652e-08, 1.25198829e-08,\n",
              "        2.05763549e-11, 2.59980704e-10, 1.37141443e-09, 5.44495074e-11,\n",
              "        8.92124772e-01, 1.75090987e-04],\n",
              "       [4.40743901e-02, 1.65969804e-02, 1.52441426e-05, 1.39628813e-04,\n",
              "        1.33626281e-06, 3.43104944e-06, 1.91307163e-06, 9.15707642e-06,\n",
              "        9.34672356e-01, 4.48549027e-03],\n",
              "       [9.99361813e-01, 1.17024116e-04, 2.00108349e-04, 8.31146338e-07,\n",
              "        7.80105984e-06, 8.50032720e-08, 4.18019219e-08, 3.55174257e-06,\n",
              "        1.99796574e-04, 1.09045708e-04],\n",
              "       [8.18218715e-10, 2.49715804e-11, 9.21511208e-04, 6.38806028e-04,\n",
              "        9.93439019e-01, 7.83430460e-06, 4.99287713e-03, 1.46872265e-08,\n",
              "        1.65319328e-10, 4.95948338e-10]], dtype=float32)"
            ]
          },
          "metadata": {},
          "execution_count": 67
        }
      ]
    },
    {
      "cell_type": "code",
      "source": [
        "y_classes = [np.argmax(element)  for element in ypred]\n",
        "y_classes[:5]"
      ],
      "metadata": {
        "colab": {
          "base_uri": "https://localhost:8080/"
        },
        "id": "EBmcohi9mgdB",
        "outputId": "1507bdba-bc7d-4cc0-b63e-028524d4628f"
      },
      "execution_count": 73,
      "outputs": [
        {
          "output_type": "execute_result",
          "data": {
            "text/plain": [
              "[5, 8, 8, 0, 4]"
            ]
          },
          "metadata": {},
          "execution_count": 73
        }
      ]
    },
    {
      "cell_type": "code",
      "source": [
        "ytest[:5]"
      ],
      "metadata": {
        "colab": {
          "base_uri": "https://localhost:8080/"
        },
        "id": "Bn-id7FWmvkK",
        "outputId": "27ce941a-e097-44f1-98f1-08a1eee60aab"
      },
      "execution_count": 75,
      "outputs": [
        {
          "output_type": "execute_result",
          "data": {
            "text/plain": [
              "array([3, 8, 8, 0, 6], dtype=uint8)"
            ]
          },
          "metadata": {},
          "execution_count": 75
        }
      ]
    },
    {
      "cell_type": "code",
      "source": [
        "print('classification report: \\n',classification_report(ytest,y_classes))"
      ],
      "metadata": {
        "colab": {
          "base_uri": "https://localhost:8080/"
        },
        "id": "bZpAHc4onN_N",
        "outputId": "15241e23-04f9-473f-b75b-af7c7a3d6574"
      },
      "execution_count": 76,
      "outputs": [
        {
          "output_type": "stream",
          "name": "stdout",
          "text": [
            "classification report: \n",
            "               precision    recall  f1-score   support\n",
            "\n",
            "           0       0.72      0.78      0.75      1000\n",
            "           1       0.86      0.78      0.81      1000\n",
            "           2       0.67      0.60      0.63      1000\n",
            "           3       0.52      0.52      0.52      1000\n",
            "           4       0.68      0.68      0.68      1000\n",
            "           5       0.63      0.59      0.61      1000\n",
            "           6       0.81      0.78      0.79      1000\n",
            "           7       0.73      0.78      0.76      1000\n",
            "           8       0.86      0.78      0.82      1000\n",
            "           9       0.69      0.86      0.76      1000\n",
            "\n",
            "    accuracy                           0.71     10000\n",
            "   macro avg       0.72      0.71      0.71     10000\n",
            "weighted avg       0.72      0.71      0.71     10000\n",
            "\n"
          ]
        }
      ]
    },
    {
      "cell_type": "code",
      "source": [],
      "metadata": {
        "id": "scMvrMNSn6Ml"
      },
      "execution_count": null,
      "outputs": []
    }
  ]
}